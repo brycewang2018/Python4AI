{
 "cells": [
  {
   "cell_type": "markdown",
   "id": "4908bdd9",
   "metadata": {},
   "source": [
    "## 1. Print Statements\n",
    "\n",
    "The `print()` function is used to display output in Python."
   ]
  },
  {
   "cell_type": "code",
   "execution_count": 3,
   "id": "660c563d",
   "metadata": {},
   "outputs": [
    {
     "name": "stdout",
     "output_type": "stream",
     "text": [
      "Hello, World!\n"
     ]
    }
   ],
   "source": [
    "print('Hello, World!')\n",
    "#\"Hello, World!\""
   ]
  },
  {
   "cell_type": "markdown",
   "id": "f19cda72",
   "metadata": {},
   "source": [
    "## 2. Variables\n",
    "\n",
    "Variables store data that can be used later in the program."
   ]
  },
  {
   "cell_type": "code",
   "execution_count": 4,
   "id": "e7047ed8",
   "metadata": {},
   "outputs": [
    {
     "name": "stdout",
     "output_type": "stream",
     "text": [
      "30\n"
     ]
    }
   ],
   "source": [
    "x = 10 \n",
    "y = 20\n",
    "print(x + y)"
   ]
  },
  {
   "cell_type": "markdown",
   "id": "22effd0e",
   "metadata": {},
   "source": [
    "## 3. Data Types\n",
    "\n",
    "Python has different data types such as int, float, str, and bool."
   ]
  },
  {
   "cell_type": "code",
   "execution_count": 8,
   "id": "90953499",
   "metadata": {},
   "outputs": [
    {
     "name": "stdout",
     "output_type": "stream",
     "text": [
      "<class 'int'> <class 'float'> <class 'str'> <class 'bool'>\n"
     ]
    }
   ],
   "source": [
    "price = 42\n",
    "pi = 3.14\n",
    "name = 'Alice'\n",
    "is_active = True ## Bool 布尔型 False\n",
    "print(type(num), type(pi), type(name), type(is_active))"
   ]
  },
  {
   "cell_type": "code",
   "execution_count": 10,
   "id": "19cd7cdc",
   "metadata": {},
   "outputs": [
    {
     "data": {
      "text/plain": [
       "float"
      ]
     },
     "execution_count": 10,
     "metadata": {},
     "output_type": "execute_result"
    }
   ],
   "source": [
    "price = 14.5\n",
    "type(price)"
   ]
  },
  {
   "cell_type": "markdown",
   "id": "71a6d621",
   "metadata": {},
   "source": [
    "## 4. Lists\n",
    "\n",
    "Lists are ordered, mutable collections of items."
   ]
  },
  {
   "cell_type": "code",
   "execution_count": 12,
   "id": "2ac0ef69",
   "metadata": {},
   "outputs": [
    {
     "name": "stdout",
     "output_type": "stream",
     "text": [
      "banana\n"
     ]
    },
    {
     "data": {
      "text/plain": [
       "['a', 1, True, [2, 3, 4]]"
      ]
     },
     "execution_count": 12,
     "metadata": {},
     "output_type": "execute_result"
    }
   ],
   "source": [
    "fruits = ['apple', 'banana', 'cherry'] # nums = [1, 2, 3, 4, 5]\n",
    "print(fruits[1])  # Access second item\n",
    "\n",
    "list1 = ['a', 1, True, [2, 3, 4]]\n",
    "list1"
   ]
  },
  {
   "cell_type": "markdown",
   "id": "33f2d759",
   "metadata": {},
   "source": [
    "## 5. Tuples\n",
    "\n",
    "Tuples are ordered and immutable collections of items."
   ]
  },
  {
   "cell_type": "code",
   "execution_count": 13,
   "id": "f22626e8",
   "metadata": {},
   "outputs": [
    {
     "name": "stdout",
     "output_type": "stream",
     "text": [
      "(1920, 1080)\n"
     ]
    }
   ],
   "source": [
    "dimensions = (1920, 1080)\n",
    "print(dimensions)"
   ]
  },
  {
   "cell_type": "markdown",
   "id": "35ff06e0",
   "metadata": {},
   "source": [
    "## 6. Dictionaries\n",
    "\n",
    "Dictionaries store data as key-value pairs."
   ]
  },
  {
   "cell_type": "code",
   "execution_count": 15,
   "id": "e4295013",
   "metadata": {},
   "outputs": [
    {
     "name": "stdout",
     "output_type": "stream",
     "text": [
      "Alice\n"
     ]
    },
    {
     "data": {
      "text/html": [
       "<div>\n",
       "<style scoped>\n",
       "    .dataframe tbody tr th:only-of-type {\n",
       "        vertical-align: middle;\n",
       "    }\n",
       "\n",
       "    .dataframe tbody tr th {\n",
       "        vertical-align: top;\n",
       "    }\n",
       "\n",
       "    .dataframe thead th {\n",
       "        text-align: right;\n",
       "    }\n",
       "</style>\n",
       "<table border=\"1\" class=\"dataframe\">\n",
       "  <thead>\n",
       "    <tr style=\"text-align: right;\">\n",
       "      <th></th>\n",
       "      <th>names</th>\n",
       "      <th>age</th>\n",
       "    </tr>\n",
       "  </thead>\n",
       "  <tbody>\n",
       "    <tr>\n",
       "      <th>0</th>\n",
       "      <td>Alice</td>\n",
       "      <td>25</td>\n",
       "    </tr>\n",
       "    <tr>\n",
       "      <th>1</th>\n",
       "      <td>Bob</td>\n",
       "      <td>24</td>\n",
       "    </tr>\n",
       "  </tbody>\n",
       "</table>\n",
       "</div>"
      ],
      "text/plain": [
       "   names  age\n",
       "0  Alice   25\n",
       "1    Bob   24"
      ]
     },
     "execution_count": 15,
     "metadata": {},
     "output_type": "execute_result"
    }
   ],
   "source": [
    "person = {'name': 'Alice', 'age': 25} # json, xml, yaml, jinjia2 \n",
    "print(person['name'])\n",
    "\n",
    "\n",
    "person = {'names': ['Alice', 'Bob'], 'age': [25, 24]} \n",
    "person\n",
    "\n",
    "import pandas as pd \n",
    "pd.DataFrame(person)"
   ]
  },
  {
   "cell_type": "markdown",
   "id": "4985836a",
   "metadata": {},
   "source": [
    "## 7. Sets\n",
    "\n",
    "Sets are unordered collections of unique items."
   ]
  },
  {
   "cell_type": "code",
   "execution_count": 16,
   "id": "741ca271",
   "metadata": {},
   "outputs": [
    {
     "name": "stdout",
     "output_type": "stream",
     "text": [
      "{1, 2, 3}\n"
     ]
    }
   ],
   "source": [
    "unique_numbers = {1, 2, 3, 2} # set 集合\n",
    "print(unique_numbers)"
   ]
  },
  {
   "cell_type": "markdown",
   "id": "03ae864c",
   "metadata": {},
   "source": [
    "## 8. Conditional Statements\n",
    "\n",
    "Use `if`, `elif`, and `else` to make decisions in Python."
   ]
  },
  {
   "cell_type": "code",
   "execution_count": null,
   "id": "c72ea41f",
   "metadata": {},
   "outputs": [],
   "source": [
    "x = 10\n",
    "if x > 5:\n",
    "    print('x is greater than 5') #   1， 2， 3， 4， 5， 6， 7， 8， 9， 10\n",
    "elif x == 5:\n",
    "    print\n",
    "else:\n",
    "    print('x is less than or equal to 5')"
   ]
  },
  {
   "cell_type": "markdown",
   "id": "f27f1918",
   "metadata": {},
   "source": [
    "## 9. Loops\n",
    "\n",
    "Use `for` or `while` loops to repeat actions."
   ]
  },
  {
   "cell_type": "code",
   "execution_count": 17,
   "id": "05a6d89f",
   "metadata": {},
   "outputs": [
    {
     "name": "stdout",
     "output_type": "stream",
     "text": [
      "0\n",
      "1\n",
      "2\n",
      "3\n",
      "4\n"
     ]
    }
   ],
   "source": [
    "for i in range(5):\n",
    "    print(i)"
   ]
  },
  {
   "cell_type": "markdown",
   "id": "f9db53f5",
   "metadata": {},
   "source": [
    "## 10. Functions\n",
    "\n",
    "Functions are blocks of reusable code."
   ]
  },
  {
   "cell_type": "code",
   "execution_count": 18,
   "id": "571d3ad9",
   "metadata": {},
   "outputs": [
    {
     "name": "stdout",
     "output_type": "stream",
     "text": [
      "Hello, Alice!\n"
     ]
    }
   ],
   "source": [
    "def greet(name):\n",
    "    return f'Hello, {name}!'  # f-string {var}\n",
    "print(greet('Alice'))"
   ]
  },
  {
   "cell_type": "markdown",
   "id": "c161200b",
   "metadata": {},
   "source": [
    "## 11. Classes and Objects\n",
    "\n",
    "Python supports object-oriented programming with classes and objects."
   ]
  },
  {
   "cell_type": "code",
   "execution_count": 19,
   "id": "712695b8",
   "metadata": {},
   "outputs": [
    {
     "name": "stdout",
     "output_type": "stream",
     "text": [
      "Alice 25\n"
     ]
    }
   ],
   "source": [
    "class Person:\n",
    "    def __init__(self, name, age):\n",
    "        self.name = name # attribute, 属性\n",
    "        self.age = age # 属性\n",
    "\n",
    "person = Person('Alice', 25)\n",
    "print(person.name, person.age)"
   ]
  },
  {
   "cell_type": "markdown",
   "id": "36ba35c0",
   "metadata": {},
   "source": [
    "## 12. List Comprehensions\n",
    "\n",
    "List comprehensions provide a concise way to create lists."
   ]
  },
  {
   "cell_type": "code",
   "execution_count": 20,
   "id": "330f6260",
   "metadata": {},
   "outputs": [
    {
     "name": "stdout",
     "output_type": "stream",
     "text": [
      "[0, 1, 4, 9, 16, 25, 36, 49, 64, 81, 100, 121, 144, 169, 196, 225, 256, 289, 324, 361, 400, 441, 484, 529, 576, 625, 676, 729, 784, 841, 900, 961, 1024, 1089, 1156, 1225, 1296, 1369, 1444, 1521, 1600, 1681, 1764, 1849, 1936, 2025, 2116, 2209, 2304, 2401]\n"
     ]
    }
   ],
   "source": [
    "squares = [x**2 for x in range(50)] # \n",
    "print(squares)"
   ]
  },
  {
   "cell_type": "markdown",
   "id": "5b81b286",
   "metadata": {},
   "source": [
    "## 13. File Handling\n",
    "\n",
    "Python can read and write files using the `open()` function."
   ]
  },
  {
   "cell_type": "code",
   "execution_count": null,
   "id": "83189835",
   "metadata": {},
   "outputs": [],
   "source": [
    "with open('example.txt', 'w') as file:\n",
    "    file.write('Hello, World!')\n",
    "\n",
    "with open('example.txt', 'r') as file:\n",
    "    print(file.read())"
   ]
  },
  {
   "cell_type": "markdown",
   "id": "4da46747",
   "metadata": {},
   "source": [
    "## 14. Exception Handling\n",
    "\n",
    "Use `try`, `except`, and `finally` to handle errors."
   ]
  },
  {
   "cell_type": "code",
   "execution_count": 22,
   "id": "8442e996",
   "metadata": {},
   "outputs": [
    {
     "name": "stdout",
     "output_type": "stream",
     "text": [
      "Cannot divide by zero\n",
      "Done\n"
     ]
    }
   ],
   "source": [
    "try:\n",
    "    result = 10 / 0\n",
    "except ZeroDivisionError:\n",
    "    print('Cannot divide by zero')\n",
    "finally:\n",
    "    print('Done')"
   ]
  },
  {
   "cell_type": "markdown",
   "id": "47ae726b",
   "metadata": {},
   "source": [
    "## 15. Modules\n",
    "\n",
    "Import and use external modules with `import`."
   ]
  },
  {
   "cell_type": "code",
   "execution_count": null,
   "id": "5b206d68",
   "metadata": {},
   "outputs": [],
   "source": [
    "import math # MATLAB\n",
    "print(math.sqrt(16))"
   ]
  },
  {
   "cell_type": "markdown",
   "id": "7194a4c0",
   "metadata": {},
   "source": [
    "## 16. Lambda Functions\n",
    "\n",
    "Anonymous functions defined using `lambda`."
   ]
  },
  {
   "cell_type": "code",
   "execution_count": 24,
   "id": "73961cf9",
   "metadata": {},
   "outputs": [
    {
     "data": {
      "text/plain": [
       "<function __main__.<lambda>(x)>"
      ]
     },
     "execution_count": 24,
     "metadata": {},
     "output_type": "execute_result"
    }
   ],
   "source": [
    "lambda x: x**2"
   ]
  },
  {
   "cell_type": "markdown",
   "id": "14234e2a",
   "metadata": {},
   "source": [
    "## 17. Map Function\n",
    "\n",
    "Apply a function to all items in an iterable."
   ]
  },
  {
   "cell_type": "code",
   "execution_count": 25,
   "id": "2a425f52",
   "metadata": {},
   "outputs": [
    {
     "name": "stdout",
     "output_type": "stream",
     "text": [
      "[1, 4, 9, 16]\n"
     ]
    }
   ],
   "source": [
    "numbers = [1, 2, 3, 4]\n",
    "squared = list(map(lambda x: x**2, numbers))\n",
    "print(squared)"
   ]
  },
  {
   "cell_type": "markdown",
   "id": "8e908575",
   "metadata": {},
   "source": [
    "## 18. Filter Function\n",
    "\n",
    "Filter items in an iterable based on a condition."
   ]
  },
  {
   "cell_type": "code",
   "execution_count": 26,
   "id": "d16327a4",
   "metadata": {},
   "outputs": [
    {
     "name": "stdout",
     "output_type": "stream",
     "text": [
      "[2, 4]\n"
     ]
    }
   ],
   "source": [
    "numbers = [1, 2, 3, 4]\n",
    "even_numbers = list(filter(lambda x: x % 2 == 0, numbers))\n",
    "print(even_numbers)"
   ]
  },
  {
   "cell_type": "markdown",
   "id": "70909e3d",
   "metadata": {},
   "source": [
    "## 19. Reduce Function\n",
    "\n",
    "Apply a rolling computation to a sequence."
   ]
  },
  {
   "cell_type": "code",
   "execution_count": 27,
   "id": "9e0ba96f",
   "metadata": {},
   "outputs": [
    {
     "name": "stdout",
     "output_type": "stream",
     "text": [
      "24\n"
     ]
    }
   ],
   "source": [
    "from functools import reduce\n",
    "numbers = [1, 2, 3, 4]\n",
    "product = reduce(lambda x, y: x * y, numbers)\n",
    "print(product)"
   ]
  },
  {
   "cell_type": "markdown",
   "id": "fcecb326",
   "metadata": {},
   "source": [
    "## 20. Generators\n",
    "\n",
    "Generators yield items one at a time using `yield`."
   ]
  },
  {
   "cell_type": "code",
   "execution_count": 28,
   "id": "48e6451d",
   "metadata": {},
   "outputs": [
    {
     "name": "stdout",
     "output_type": "stream",
     "text": [
      "1\n",
      "2\n",
      "3\n",
      "4\n",
      "5\n"
     ]
    }
   ],
   "source": [
    "def count_up_to(n):\n",
    "    i = 1\n",
    "    while i <= n:\n",
    "        yield i\n",
    "        i += 1\n",
    "\n",
    "for number in count_up_to(5):\n",
    "    print(number)"
   ]
  },
  {
   "cell_type": "markdown",
   "id": "9148e45e",
   "metadata": {},
   "source": [
    "## 21. Default Function Arguments\n",
    "\n",
    "Functions can have default parameter values."
   ]
  },
  {
   "cell_type": "code",
   "execution_count": null,
   "id": "c9643d52",
   "metadata": {},
   "outputs": [],
   "source": [
    "def greet(name, message='Hello'):\n",
    "    return f'{message}, {name}!'\n",
    "print(greet('Alice'))\n",
    "print(greet('Bob', 'Hi'))"
   ]
  },
  {
   "cell_type": "markdown",
   "id": "2661682b",
   "metadata": {},
   "source": [
    "## 22. Packing and Unpacking\n",
    "\n",
    "Use `*` and `**` for packing and unpacking arguments."
   ]
  },
  {
   "cell_type": "code",
   "execution_count": 29,
   "id": "31f741cc",
   "metadata": {},
   "outputs": [
    {
     "name": "stdout",
     "output_type": "stream",
     "text": [
      "10\n"
     ]
    }
   ],
   "source": [
    "def add(*args):   #{\"1\": 1, \"1\": 2, \"1\": 3, \"\": 4}\n",
    "    return sum(args)\n",
    "print(add(1, 2, 3, 4))"
   ]
  },
  {
   "cell_type": "markdown",
   "id": "2ddaea60",
   "metadata": {},
   "source": [
    "## 23. F-Strings\n",
    "\n",
    "Formatted string literals introduced in Python 3.6."
   ]
  },
  {
   "cell_type": "code",
   "execution_count": null,
   "id": "31a26aa1",
   "metadata": {},
   "outputs": [],
   "source": [
    "name = 'Alice'\n",
    "age = 25\n",
    "print(f'{name} is {age} years old.') # f'sdfadfadfas{name}d'"
   ]
  },
  {
   "cell_type": "markdown",
   "id": "3120ddf2",
   "metadata": {},
   "source": [
    "## 24. Enumerate\n",
    "\n",
    "Get the index and value of items in an iterable."
   ]
  },
  {
   "cell_type": "code",
   "execution_count": 31,
   "id": "6259356b",
   "metadata": {},
   "outputs": [
    {
     "name": "stdout",
     "output_type": "stream",
     "text": [
      "0 Alice\n",
      "1 Bob\n",
      "2 Charlie\n"
     ]
    }
   ],
   "source": [
    "names = ['Alice', 'Bob', 'Charlie']\n",
    "for a, name in enumerate(names):\n",
    "    print(a, name)"
   ]
  },
  {
   "cell_type": "markdown",
   "id": "95581603",
   "metadata": {},
   "source": [
    "## 25. Zipping Iterables\n",
    "\n",
    "Combine multiple iterables using `zip()`."
   ]
  },
  {
   "cell_type": "code",
   "execution_count": 32,
   "id": "d300a497",
   "metadata": {},
   "outputs": [
    {
     "name": "stdout",
     "output_type": "stream",
     "text": [
      "1 a\n",
      "2 b\n",
      "3 c\n"
     ]
    }
   ],
   "source": [
    "list1 = [1, 2, 3]\n",
    "list2 = ['a', 'b', 'c']\n",
    "for item1, item2 in zip(list1, list2):\n",
    "    print(item1, item2)"
   ]
  },
  {
   "cell_type": "markdown",
   "id": "44a1f39a",
   "metadata": {},
   "source": [
    "## 26. List Slicing\n",
    "\n",
    "Extract subsets of lists using slicing syntax."
   ]
  },
  {
   "cell_type": "code",
   "execution_count": null,
   "id": "5a0d23e4",
   "metadata": {},
   "outputs": [],
   "source": [
    "numbers = [0, 1, 2, 3, 4, 5]\n",
    "print(numbers[1:4])\n",
    "print(numbers[:3])\n",
    "print(numbers[::2])"
   ]
  },
  {
   "cell_type": "markdown",
   "id": "69a3d7d4",
   "metadata": {},
   "source": [
    "## 27. String Methods\n",
    "\n",
    "Python strings have many useful methods."
   ]
  },
  {
   "cell_type": "code",
   "execution_count": null,
   "id": "48e82c0a",
   "metadata": {},
   "outputs": [],
   "source": [
    "text = ' Hello World '\n",
    "print(text.strip())\n",
    "print(text.upper())\n",
    "print(text.lower())"
   ]
  },
  {
   "cell_type": "markdown",
   "id": "58b452b5",
   "metadata": {},
   "source": [
    "## 28. List Methods\n",
    "\n",
    "Lists come with built-in methods for manipulation."
   ]
  },
  {
   "cell_type": "code",
   "execution_count": null,
   "id": "86ac065c",
   "metadata": {},
   "outputs": [],
   "source": [
    "numbers = [1, 2, 3]\n",
    "numbers.append(4)\n",
    "numbers.remove(2)\n",
    "print(numbers)"
   ]
  },
  {
   "cell_type": "markdown",
   "id": "08d1d76f",
   "metadata": {},
   "source": [
    "## 29. Boolean Logic\n",
    "\n",
    "Combine conditions using `and`, `or`, and `not`."
   ]
  },
  {
   "cell_type": "code",
   "execution_count": 33,
   "id": "0ef02ed7",
   "metadata": {},
   "outputs": [
    {
     "name": "stdout",
     "output_type": "stream",
     "text": [
      "True\n",
      "True\n"
     ]
    }
   ],
   "source": [
    "x = 10\n",
    "y = 20\n",
    "print(x > 5 and y < 25)\n",
    "print(not (x > y))"
   ]
  },
  {
   "cell_type": "code",
   "execution_count": 34,
   "id": "2ed707e8",
   "metadata": {},
   "outputs": [
    {
     "data": {
      "text/plain": [
       "True"
      ]
     },
     "execution_count": 34,
     "metadata": {},
     "output_type": "execute_result"
    }
   ],
   "source": [
    "x > 5 and y < 25"
   ]
  },
  {
   "cell_type": "markdown",
   "id": "f1ff5d50",
   "metadata": {},
   "source": [
    "## 30. Nested Loops\n",
    "\n",
    "Use loops within loops for complex iteration."
   ]
  },
  {
   "cell_type": "code",
   "execution_count": 35,
   "id": "0e469c19",
   "metadata": {},
   "outputs": [
    {
     "name": "stdout",
     "output_type": "stream",
     "text": [
      "i=0, j=0\n",
      "i=0, j=1\n",
      "i=1, j=0\n",
      "i=1, j=1\n",
      "i=2, j=0\n",
      "i=2, j=1\n"
     ]
    }
   ],
   "source": [
    "for i in range(3):\n",
    "    for j in range(2):\n",
    "        print(f'i={i}, j={j}')"
   ]
  },
  {
   "cell_type": "markdown",
   "id": "d69073ae",
   "metadata": {},
   "source": [
    "## 31. Range Function\n",
    "\n",
    "Generate a sequence of numbers using `range()`."
   ]
  },
  {
   "cell_type": "code",
   "execution_count": 36,
   "id": "fd8e857e",
   "metadata": {},
   "outputs": [
    {
     "name": "stdout",
     "output_type": "stream",
     "text": [
      "0\n",
      "1\n",
      "2\n",
      "3\n",
      "4\n"
     ]
    }
   ],
   "source": [
    "for number in range(5):\n",
    "    print(number)"
   ]
  },
  {
   "cell_type": "markdown",
   "id": "fe2be4e3",
   "metadata": {},
   "source": [
    "## 32. Recursion\n",
    "\n",
    "A function can call itself to solve problems recursively."
   ]
  },
  {
   "cell_type": "code",
   "execution_count": null,
   "id": "bb6df002",
   "metadata": {},
   "outputs": [],
   "source": [
    "def factorial(n):\n",
    "    if n == 1:\n",
    "        return 1\n",
    "    return n * factorial(n - 1)\n",
    "print(factorial(5))"
   ]
  },
  {
   "cell_type": "markdown",
   "id": "59b1794a",
   "metadata": {},
   "source": [
    "## 33. Importing Specific Functions\n",
    "\n",
    "Import specific functions from a module using `from` keyword."
   ]
  },
  {
   "cell_type": "code",
   "execution_count": null,
   "id": "f22983fd",
   "metadata": {},
   "outputs": [],
   "source": [
    "from math import sqrt\n",
    "print(sqrt(16))"
   ]
  },
  {
   "cell_type": "markdown",
   "id": "54e7ac49",
   "metadata": {},
   "source": [
    "## 34. Assert Statement\n",
    "\n",
    "Use `assert` to test conditions during debugging."
   ]
  },
  {
   "cell_type": "code",
   "execution_count": 37,
   "id": "c7087137",
   "metadata": {},
   "outputs": [
    {
     "name": "stdout",
     "output_type": "stream",
     "text": [
      "Assertion passed!\n"
     ]
    }
   ],
   "source": [
    "x = 5\n",
    "assert x > 0, 'x is not positive'\n",
    "print('Assertion passed!')"
   ]
  },
  {
   "cell_type": "markdown",
   "id": "b4b5007c",
   "metadata": {},
   "source": [
    "## 35. Shallow vs Deep Copy \n",
    "# Lab 1\n",
    "\n",
    "Understand the difference between shallow and deep copies."
   ]
  },
  {
   "cell_type": "code",
   "execution_count": null,
   "id": "e75c17d2",
   "metadata": {},
   "outputs": [],
   "source": [
    "import copy\n",
    "original = [1, [2, 3]]\n",
    "shallow = copy.copy(original)\n",
    "deep = copy.deepcopy(original)\n",
    "original[1][0] = 99\n",
    "print('Shallow Copy:', shallow)\n",
    "print('Deep Copy:', deep)"
   ]
  },
  {
   "cell_type": "code",
   "execution_count": null,
   "id": "c2b78fa3",
   "metadata": {},
   "outputs": [],
   "source": [
    "a=1 \n",
    "b=a\n",
    "\n",
    "print(a)"
   ]
  },
  {
   "cell_type": "markdown",
   "id": "1ea15c75",
   "metadata": {},
   "source": [
    "## 36. The `is` Operator\n",
    "\n",
    "Check if two variables point to the same object using `is`."
   ]
  },
  {
   "cell_type": "code",
   "execution_count": null,
   "id": "ed59f75e",
   "metadata": {},
   "outputs": [],
   "source": [
    "a = [1, 2, 3]\n",
    "b = a\n",
    "c = [1, 2, 3]\n",
    "print(a is b)\n",
    "print(a is c)"
   ]
  },
  {
   "cell_type": "markdown",
   "id": "8d7fde92",
   "metadata": {},
   "source": [
    "## 37. The `in` Operator\n",
    "\n",
    "Check if a value exists within an iterable."
   ]
  },
  {
   "cell_type": "code",
   "execution_count": null,
   "id": "2a53e475",
   "metadata": {},
   "outputs": [],
   "source": [
    "fruits = ['apple', 'banana', 'cherry']\n",
    "print('apple' in fruits)\n",
    "print('grape' in fruits)"
   ]
  },
  {
   "cell_type": "markdown",
   "id": "f0155614",
   "metadata": {},
   "source": [
    "## 38. The `del` Statement\n",
    "\n",
    "Remove an item from a list or delete a variable."
   ]
  },
  {
   "cell_type": "code",
   "execution_count": null,
   "id": "a9032d78",
   "metadata": {},
   "outputs": [],
   "source": [
    "numbers = [1, 2, 3, 4]\n",
    "del numbers[2]\n",
    "print(numbers)"
   ]
  },
  {
   "cell_type": "markdown",
   "id": "bd3abd53",
   "metadata": {},
   "source": [
    "## 39. Dictionary Comprehension\n",
    "\n",
    "Create dictionaries using comprehension syntax."
   ]
  },
  {
   "cell_type": "code",
   "execution_count": null,
   "id": "406d52f2",
   "metadata": {},
   "outputs": [],
   "source": [
    "squared = {x: x**2 for x in range(5)}\n",
    "print(squared)"
   ]
  },
  {
   "cell_type": "markdown",
   "id": "9a5e335f",
   "metadata": {},
   "source": [
    "## 40. Context Managers\n",
    "\n",
    "Use `with` to handle resources efficiently."
   ]
  },
  {
   "cell_type": "code",
   "execution_count": null,
   "id": "be64337a",
   "metadata": {},
   "outputs": [],
   "source": [
    "with open('example.txt', 'w') as file:\n",
    "    file.write('Hello, World!')"
   ]
  },
  {
   "cell_type": "markdown",
   "id": "0281fee1",
   "metadata": {},
   "source": [
    "## 41. Iterators\n",
    "\n",
    "Iterators allow traversal through all the items in an iterable."
   ]
  },
  {
   "cell_type": "code",
   "execution_count": null,
   "id": "a02fe9e8",
   "metadata": {},
   "outputs": [],
   "source": [
    "numbers = iter([1, 2, 3, 4])\n",
    "print(next(numbers))\n",
    "print(next(numbers))"
   ]
  },
  {
   "cell_type": "markdown",
   "id": "b6a86150",
   "metadata": {},
   "source": [
    "## 42. The `any` and `all` Functions\n",
    "\n",
    "`any` checks if any element is true, `all` checks if all are true."
   ]
  },
  {
   "cell_type": "code",
   "execution_count": null,
   "id": "e8daf12b",
   "metadata": {},
   "outputs": [],
   "source": [
    "numbers = [1, 0, 3, 4]\n",
    "print(any(numbers))  # True because at least one is non-zero\n",
    "print(all(numbers))  # False because 0 is in the list"
   ]
  },
  {
   "cell_type": "markdown",
   "id": "c547ace2",
   "metadata": {},
   "source": [
    "## 43. Sorting with `sorted`\n",
    "\n",
    "Sort iterables using the `sorted()` function."
   ]
  },
  {
   "cell_type": "code",
   "execution_count": null,
   "id": "364cb00e",
   "metadata": {},
   "outputs": [],
   "source": [
    "numbers = [3, 1, 4, 1, 5, 9]\n",
    "print(sorted(numbers))\n",
    "print(sorted(numbers, reverse=True))"
   ]
  },
  {
   "cell_type": "markdown",
   "id": "f0a4fc70",
   "metadata": {},
   "source": [
    "## 44. Using `key` in Sorting\n",
    "\n",
    "Sort complex structures using the `key` argument."
   ]
  },
  {
   "cell_type": "code",
   "execution_count": null,
   "id": "1dad61ac",
   "metadata": {},
   "outputs": [],
   "source": [
    "data = [{'name': 'Alice', 'age': 25}, {'name': 'Bob', 'age': 20}]\n",
    "print(sorted(data, key=lambda x: x['age']))"
   ]
  },
  {
   "cell_type": "markdown",
   "id": "d52eadea",
   "metadata": {},
   "source": [
    "## 45. Named Tuples\n",
    "\n",
    "Create immutable objects with named fields using `collections.namedtuple`."
   ]
  },
  {
   "cell_type": "code",
   "execution_count": null,
   "id": "ff73cf9d",
   "metadata": {},
   "outputs": [],
   "source": [
    "from collections import namedtuple\n",
    "Point = namedtuple('Point', 'x y')\n",
    "point = Point(10, 20)\n",
    "print(point.x, point.y)"
   ]
  },
  {
   "cell_type": "markdown",
   "id": "35cf071e",
   "metadata": {},
   "source": [
    "## 46. Counter\n",
    "\n",
    "Use `collections.Counter` to count occurrences of elements."
   ]
  },
  {
   "cell_type": "code",
   "execution_count": null,
   "id": "d75055e3",
   "metadata": {},
   "outputs": [],
   "source": [
    "from collections import Counter\n",
    "numbers = [1, 2, 2, 3, 3, 3]\n",
    "count = Counter(numbers)\n",
    "print(count)"
   ]
  },
  {
   "cell_type": "markdown",
   "id": "35a2e6c5",
   "metadata": {},
   "source": [
    "## 47. Defaultdict\n",
    "\n",
    "Handle missing keys in dictionaries using `collections.defaultdict`."
   ]
  },
  {
   "cell_type": "code",
   "execution_count": null,
   "id": "a2ab673e",
   "metadata": {},
   "outputs": [],
   "source": [
    "from collections import defaultdict\n",
    "def_dict = defaultdict(int)\n",
    "def_dict['a'] += 1\n",
    "print(def_dict)"
   ]
  },
  {
   "cell_type": "markdown",
   "id": "e55815e6",
   "metadata": {},
   "source": [
    "## 48. Time Measurement\n",
    "\n",
    "Measure execution time of code using `time`."
   ]
  },
  {
   "cell_type": "code",
   "execution_count": null,
   "id": "2bbd81e8",
   "metadata": {},
   "outputs": [],
   "source": [
    "import time\n",
    "start = time.time()\n",
    "sum(range(1000000))\n",
    "end = time.time()\n",
    "print(f'Execution time: {end - start} seconds')"
   ]
  },
  {
   "cell_type": "markdown",
   "id": "538cc5f8",
   "metadata": {},
   "source": [
    "## 49. Regular Expressions\n",
    "\n",
    "Use `re` for pattern matching and text searching."
   ]
  },
  {
   "cell_type": "code",
   "execution_count": null,
   "id": "1b0d6d4d",
   "metadata": {},
   "outputs": [],
   "source": [
    "import re\n",
    "text = 'My phone number is 123-456-7890.'\n",
    "match = re.search(r'\\d{3}-\\d{3}-\\d{4}', text)\n",
    "print(match.group())"
   ]
  },
  {
   "cell_type": "markdown",
   "id": "58782ab6",
   "metadata": {},
   "source": [
    "## 50. Global and Local Variables\n",
    "\n",
    "Understand the scope of variables in Python."
   ]
  },
  {
   "cell_type": "code",
   "execution_count": null,
   "id": "df1131e0",
   "metadata": {},
   "outputs": [],
   "source": [
    "x = 'global'\n",
    "def func():\n",
    "    x = 'local'\n",
    "    print('Inside:', x)\n",
    "func()\n",
    "print('Outside:', x)"
   ]
  }
 ],
 "metadata": {
  "kernelspec": {
   "display_name": "Python 3",
   "language": "python",
   "name": "python3"
  },
  "language_info": {
   "codemirror_mode": {
    "name": "ipython",
    "version": 3
   },
   "file_extension": ".py",
   "mimetype": "text/x-python",
   "name": "python",
   "nbconvert_exporter": "python",
   "pygments_lexer": "ipython3",
   "version": "3.11.1"
  }
 },
 "nbformat": 4,
 "nbformat_minor": 5
}
