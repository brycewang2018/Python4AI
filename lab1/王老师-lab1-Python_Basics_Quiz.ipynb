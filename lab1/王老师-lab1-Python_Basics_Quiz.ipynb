{
 "cells": [
  {
   "cell_type": "markdown",
   "id": "e82aacbe",
   "metadata": {},
   "source": [
    "## Quiz 1: Working with Lists and Loops\n",
    "\n",
    "Create a list of numbers from 1 to 10 and print the square of each number using a loop."
   ]
  },
  {
   "cell_type": "code",
   "execution_count": null,
   "id": "0c4fa64f",
   "metadata": {},
   "outputs": [],
   "source": []
  },
  {
   "cell_type": "markdown",
   "id": "4fcf7cc8",
   "metadata": {},
   "source": [
    "## Quiz 2: Functions and Conditionals\n",
    "\n",
    "Write a function that checks if a number is even or odd and returns 'Even' or 'Odd'."
   ]
  },
  {
   "cell_type": "code",
   "execution_count": null,
   "id": "4e76fee1",
   "metadata": {},
   "outputs": [],
   "source": []
  },
  {
   "cell_type": "markdown",
   "id": "72515ec4",
   "metadata": {},
   "source": [
    "## Quiz 3: Dictionaries and Loops\n",
    "\n",
    "Given a dictionary of students and their scores, print the names of students who scored above 80."
   ]
  },
  {
   "cell_type": "code",
   "execution_count": null,
   "id": "e7272e1d",
   "metadata": {},
   "outputs": [],
   "source": []
  },
  {
   "cell_type": "markdown",
   "id": "1b9bff44",
   "metadata": {},
   "source": [
    "## Quiz 4: List Comprehensions and Filtering\n",
    "\n",
    "Use a list comprehension to create a list of even numbers from 1 to 20."
   ]
  },
  {
   "cell_type": "code",
   "execution_count": null,
   "id": "8ae517ed",
   "metadata": {},
   "outputs": [],
   "source": []
  },
  {
   "cell_type": "markdown",
   "id": "accdda06",
   "metadata": {},
   "source": [
    "## Quiz 5: File Handling\n",
    "\n",
    "Write to a file named 'output.txt' and then read and print its contents."
   ]
  },
  {
   "cell_type": "code",
   "execution_count": null,
   "id": "d3d4e12c",
   "metadata": {},
   "outputs": [],
   "source": []
  },
  {
   "cell_type": "markdown",
   "id": "708a4c0a",
   "metadata": {},
   "source": [
    "## Quiz 6: Regular Expressions\n",
    "\n",
    "Extract all numbers from the string 'abc123xyz456' using regular expressions."
   ]
  },
  {
   "cell_type": "code",
   "execution_count": null,
   "id": "832664cf",
   "metadata": {},
   "outputs": [],
   "source": []
  },
  {
   "cell_type": "markdown",
   "id": "d645cd62",
   "metadata": {},
   "source": [
    "## Quiz 7: Lambda Functions and Map\n",
    "\n",
    "Use `map` and a `lambda` function to create a list of squares of numbers from 1 to 5."
   ]
  },
  {
   "cell_type": "code",
   "execution_count": null,
   "id": "23ea2274",
   "metadata": {},
   "outputs": [],
   "source": []
  },
  {
   "cell_type": "markdown",
   "id": "62ba219c",
   "metadata": {},
   "source": [
    "## Quiz 8: Classes and Objects\n",
    "\n",
    "Create a class `Circle` with a method to calculate the area given the radius."
   ]
  },
  {
   "cell_type": "code",
   "execution_count": null,
   "id": "e02b35b3",
   "metadata": {},
   "outputs": [],
   "source": []
  },
  {
   "cell_type": "markdown",
   "id": "7f9ae190",
   "metadata": {},
   "source": [
    "## Quiz 9: Sorting with Key\n",
    "\n",
    "Sort a list of tuples by the second element in each tuple."
   ]
  },
  {
   "cell_type": "code",
   "execution_count": null,
   "id": "25cb2daa",
   "metadata": {},
   "outputs": [],
   "source": []
  },
  {
   "cell_type": "markdown",
   "id": "a02f7716",
   "metadata": {},
   "source": [
    "## Quiz 10: Error Handling\n",
    "\n",
    "Write code to safely divide two numbers and handle division by zero."
   ]
  },
  {
   "cell_type": "code",
   "execution_count": null,
   "id": "85fb8e01",
   "metadata": {},
   "outputs": [],
   "source": []
  }
 ],
 "metadata": {
  "language_info": {
   "name": "python"
  }
 },
 "nbformat": 4,
 "nbformat_minor": 5
}
